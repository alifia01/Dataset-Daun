{
 "cells": [
  {
   "cell_type": "markdown",
   "metadata": {},
   "source": [
    "<h3>1. Import module yang dibutuhkan</h3>"
   ]
  },
  {
   "cell_type": "code",
   "execution_count": 2,
   "metadata": {},
   "outputs": [],
   "source": [
    "from sklearn.model_selection import train_test_split\n",
    "from sklearn.preprocessing import LabelEncoder\n",
    "from sklearn.metrics import classification_report\n",
    "from tensorflow.keras.models import Sequential\n",
    "from tensorflow.keras.layers import Flatten, Dense\n",
    "from tensorflow.keras.optimizers import SGD\n",
    "import numpy as np\n",
    "import cv2\n",
    "import glob\n",
    "import matplotlib.pyplot as plt"
   ]
  },
  {
   "cell_type": "markdown",
   "metadata": {},
   "source": [
    "<h3>2. Load Dataset</h3>"
   ]
  },
  {
   "cell_type": "code",
   "execution_count": 24,
   "metadata": {},
   "outputs": [],
   "source": [
    "imagePaths = 'Dataset\\\\'\n",
    "label_list = ['Pandan', 'Seledri']\n",
    "data = []\n",
    "labels = []"
   ]
  },
  {
   "cell_type": "code",
   "execution_count": 25,
   "metadata": {},
   "outputs": [],
   "source": [
    "for label in label_list:\n",
    "    for imagePath in glob.glob(imagePaths+label+'\\\\*.jpg'):\n",
    "        #print(imagePath)\n",
    "        image = cv2.imread(imagePath)\n",
    "        image = cv2.resize(image, (32, 32))\n",
    "        data.append(image)\n",
    "        labels.append(label)"
   ]
  },
  {
   "cell_type": "code",
   "execution_count": 26,
   "metadata": {},
   "outputs": [
    {
     "data": {
      "text/plain": [
       "(100, 32, 32, 3)"
      ]
     },
     "execution_count": 26,
     "metadata": {},
     "output_type": "execute_result"
    }
   ],
   "source": [
    "np.array(data).shape"
   ]
  },
  {
   "cell_type": "markdown",
   "metadata": {},
   "source": [
    "<h3>3. Data Preprocessing</h3>"
   ]
  },
  {
   "cell_type": "code",
   "execution_count": 27,
   "metadata": {},
   "outputs": [],
   "source": [
    "# ubah type data dari list menjadi array\n",
    "# ubah nilai dari tiap pixel menjadi range [0..1]\n",
    "data = np.array(data, dtype='float') / 255.0\n",
    "labels = np.array(labels)"
   ]
  },
  {
   "cell_type": "code",
   "execution_count": 28,
   "metadata": {},
   "outputs": [
    {
     "name": "stdout",
     "output_type": "stream",
     "text": [
      "['Pandan' 'Pandan' 'Pandan' 'Pandan' 'Pandan' 'Pandan' 'Pandan' 'Pandan'\n",
      " 'Pandan' 'Pandan' 'Pandan' 'Pandan' 'Pandan' 'Pandan' 'Pandan' 'Pandan'\n",
      " 'Pandan' 'Pandan' 'Pandan' 'Pandan' 'Pandan' 'Pandan' 'Pandan' 'Pandan'\n",
      " 'Pandan' 'Pandan' 'Pandan' 'Pandan' 'Pandan' 'Pandan' 'Pandan' 'Pandan'\n",
      " 'Pandan' 'Pandan' 'Pandan' 'Pandan' 'Pandan' 'Pandan' 'Pandan' 'Pandan'\n",
      " 'Pandan' 'Pandan' 'Pandan' 'Pandan' 'Pandan' 'Pandan' 'Pandan' 'Pandan'\n",
      " 'Pandan' 'Pandan' 'Seledri' 'Seledri' 'Seledri' 'Seledri' 'Seledri'\n",
      " 'Seledri' 'Seledri' 'Seledri' 'Seledri' 'Seledri' 'Seledri' 'Seledri'\n",
      " 'Seledri' 'Seledri' 'Seledri' 'Seledri' 'Seledri' 'Seledri' 'Seledri'\n",
      " 'Seledri' 'Seledri' 'Seledri' 'Seledri' 'Seledri' 'Seledri' 'Seledri'\n",
      " 'Seledri' 'Seledri' 'Seledri' 'Seledri' 'Seledri' 'Seledri' 'Seledri'\n",
      " 'Seledri' 'Seledri' 'Seledri' 'Seledri' 'Seledri' 'Seledri' 'Seledri'\n",
      " 'Seledri' 'Seledri' 'Seledri' 'Seledri' 'Seledri' 'Seledri' 'Seledri'\n",
      " 'Seledri' 'Seledri' 'Seledri']\n"
     ]
    }
   ],
   "source": [
    "print(labels)"
   ]
  },
  {
   "cell_type": "code",
   "execution_count": 29,
   "metadata": {},
   "outputs": [
    {
     "name": "stdout",
     "output_type": "stream",
     "text": [
      "[0 0 0 0 0 0 0 0 0 0 0 0 0 0 0 0 0 0 0 0 0 0 0 0 0 0 0 0 0 0 0 0 0 0 0 0 0\n",
      " 0 0 0 0 0 0 0 0 0 0 0 0 0 1 1 1 1 1 1 1 1 1 1 1 1 1 1 1 1 1 1 1 1 1 1 1 1\n",
      " 1 1 1 1 1 1 1 1 1 1 1 1 1 1 1 1 1 1 1 1 1 1 1 1 1 1]\n"
     ]
    }
   ],
   "source": [
    "# ubah nilai dari labels menjadi binary\n",
    "lb = LabelEncoder()\n",
    "labels = lb.fit_transform(labels)\n",
    "print(labels)"
   ]
  },
  {
   "cell_type": "markdown",
   "metadata": {},
   "source": [
    "<h3>4. Split Dataset</h3>"
   ]
  },
  {
   "cell_type": "code",
   "execution_count": 30,
   "metadata": {},
   "outputs": [],
   "source": [
    "x_train, x_test, y_train, y_test = train_test_split(data, labels, test_size=0.2, random_state=42)"
   ]
  },
  {
   "cell_type": "code",
   "execution_count": 31,
   "metadata": {},
   "outputs": [
    {
     "name": "stdout",
     "output_type": "stream",
     "text": [
      "Ukuran data train = (80, 32, 32, 3)\n",
      "Ukuran data test = (20, 32, 32, 3)\n"
     ]
    }
   ],
   "source": [
    "print('Ukuran data train =', x_train.shape)\n",
    "print('Ukuran data test =', x_test.shape)"
   ]
  },
  {
   "cell_type": "markdown",
   "metadata": {},
   "source": [
    "<h3>5. Build ANN Architecture</h3>"
   ]
  },
  {
   "cell_type": "code",
   "execution_count": 32,
   "metadata": {},
   "outputs": [],
   "source": [
    "model = Sequential()\n",
    "model.add(Flatten(input_shape=(32,32,3)))\n",
    "model.add(Dense(1024, activation=\"relu\"))\n",
    "model.add(Dense(1024, activation=\"relu\"))\n",
    "model.add(Dense(1, activation=\"sigmoid\"))"
   ]
  },
  {
   "cell_type": "code",
   "execution_count": 33,
   "metadata": {},
   "outputs": [
    {
     "name": "stdout",
     "output_type": "stream",
     "text": [
      "Model: \"sequential\"\n",
      "_________________________________________________________________\n",
      " Layer (type)                Output Shape              Param #   \n",
      "=================================================================\n",
      " flatten (Flatten)           (None, 3072)              0         \n",
      "                                                                 \n",
      " dense (Dense)               (None, 1024)              3146752   \n",
      "                                                                 \n",
      " dense_1 (Dense)             (None, 1024)              1049600   \n",
      "                                                                 \n",
      " dense_2 (Dense)             (None, 1)                 1025      \n",
      "                                                                 \n",
      "=================================================================\n",
      "Total params: 4,197,377\n",
      "Trainable params: 4,197,377\n",
      "Non-trainable params: 0\n",
      "_________________________________________________________________\n"
     ]
    }
   ],
   "source": [
    "model.summary()"
   ]
  },
  {
   "cell_type": "code",
   "execution_count": 34,
   "metadata": {},
   "outputs": [],
   "source": [
    "# tentukan hyperparameter\n",
    "lr = 0.01\n",
    "max_epochs = 100\n",
    "opt_funct = SGD(learning_rate=lr)"
   ]
  },
  {
   "cell_type": "code",
   "execution_count": 35,
   "metadata": {},
   "outputs": [],
   "source": [
    "# compile arsitektur yang telah dibuat\n",
    "model.compile(loss = 'binary_crossentropy', \n",
    "              optimizer = opt_funct, \n",
    "              metrics = ['accuracy'])"
   ]
  },
  {
   "cell_type": "markdown",
   "metadata": {},
   "source": [
    "<h3>6. Train Model</h3>"
   ]
  },
  {
   "cell_type": "code",
   "execution_count": 36,
   "metadata": {},
   "outputs": [
    {
     "name": "stdout",
     "output_type": "stream",
     "text": [
      "Epoch 1/100\n",
      "3/3 [==============================] - 2s 239ms/step - loss: 0.9193 - accuracy: 0.5000 - val_loss: 0.9045 - val_accuracy: 0.4000\n",
      "Epoch 2/100\n",
      "3/3 [==============================] - 0s 65ms/step - loss: 0.6711 - accuracy: 0.5500 - val_loss: 0.5355 - val_accuracy: 0.6000\n",
      "Epoch 3/100\n",
      "3/3 [==============================] - 0s 71ms/step - loss: 0.6849 - accuracy: 0.4750 - val_loss: 0.8476 - val_accuracy: 0.4000\n",
      "Epoch 4/100\n",
      "3/3 [==============================] - 0s 66ms/step - loss: 0.5222 - accuracy: 0.6750 - val_loss: 0.6189 - val_accuracy: 0.6000\n",
      "Epoch 5/100\n",
      "3/3 [==============================] - 0s 62ms/step - loss: 0.5078 - accuracy: 0.7875 - val_loss: 0.6832 - val_accuracy: 0.6000\n",
      "Epoch 6/100\n",
      "3/3 [==============================] - 0s 58ms/step - loss: 0.8094 - accuracy: 0.4750 - val_loss: 0.6222 - val_accuracy: 0.6000\n",
      "Epoch 7/100\n",
      "3/3 [==============================] - 0s 60ms/step - loss: 0.4362 - accuracy: 0.8500 - val_loss: 0.4191 - val_accuracy: 0.9500\n",
      "Epoch 8/100\n",
      "3/3 [==============================] - 0s 92ms/step - loss: 0.3841 - accuracy: 0.9500 - val_loss: 0.3811 - val_accuracy: 0.9500\n",
      "Epoch 9/100\n",
      "3/3 [==============================] - 0s 62ms/step - loss: 0.3854 - accuracy: 0.9000 - val_loss: 0.5527 - val_accuracy: 0.6500\n",
      "Epoch 10/100\n",
      "3/3 [==============================] - 0s 67ms/step - loss: 0.5637 - accuracy: 0.5750 - val_loss: 0.8143 - val_accuracy: 0.6000\n",
      "Epoch 11/100\n",
      "3/3 [==============================] - 0s 64ms/step - loss: 0.5559 - accuracy: 0.7750 - val_loss: 0.5004 - val_accuracy: 0.7000\n",
      "Epoch 12/100\n",
      "3/3 [==============================] - 0s 68ms/step - loss: 0.5210 - accuracy: 0.6125 - val_loss: 0.4469 - val_accuracy: 0.6000\n",
      "Epoch 13/100\n",
      "3/3 [==============================] - 0s 67ms/step - loss: 0.3748 - accuracy: 0.7500 - val_loss: 0.3224 - val_accuracy: 0.9500\n",
      "Epoch 14/100\n",
      "3/3 [==============================] - 0s 66ms/step - loss: 0.3293 - accuracy: 0.9250 - val_loss: 0.3502 - val_accuracy: 0.9500\n",
      "Epoch 15/100\n",
      "3/3 [==============================] - 0s 62ms/step - loss: 0.2648 - accuracy: 1.0000 - val_loss: 0.4041 - val_accuracy: 0.8000\n",
      "Epoch 16/100\n",
      "3/3 [==============================] - 0s 63ms/step - loss: 0.3189 - accuracy: 0.9250 - val_loss: 0.3333 - val_accuracy: 0.8000\n",
      "Epoch 17/100\n",
      "3/3 [==============================] - 0s 56ms/step - loss: 0.2775 - accuracy: 0.9750 - val_loss: 0.6623 - val_accuracy: 0.5500\n",
      "Epoch 18/100\n",
      "3/3 [==============================] - 0s 59ms/step - loss: 0.4391 - accuracy: 0.6750 - val_loss: 0.2601 - val_accuracy: 1.0000\n",
      "Epoch 19/100\n",
      "3/3 [==============================] - 0s 57ms/step - loss: 0.2386 - accuracy: 0.9750 - val_loss: 0.2416 - val_accuracy: 1.0000\n",
      "Epoch 20/100\n",
      "3/3 [==============================] - 0s 68ms/step - loss: 0.1974 - accuracy: 1.0000 - val_loss: 0.2565 - val_accuracy: 0.9500\n",
      "Epoch 21/100\n",
      "3/3 [==============================] - 0s 65ms/step - loss: 0.1904 - accuracy: 1.0000 - val_loss: 0.2362 - val_accuracy: 0.9500\n",
      "Epoch 22/100\n",
      "3/3 [==============================] - 0s 66ms/step - loss: 0.2091 - accuracy: 0.9875 - val_loss: 0.2108 - val_accuracy: 1.0000\n",
      "Epoch 23/100\n",
      "3/3 [==============================] - 0s 65ms/step - loss: 0.2026 - accuracy: 1.0000 - val_loss: 0.4570 - val_accuracy: 0.7000\n",
      "Epoch 24/100\n",
      "3/3 [==============================] - 0s 62ms/step - loss: 0.2866 - accuracy: 0.8500 - val_loss: 0.2088 - val_accuracy: 1.0000\n",
      "Epoch 25/100\n",
      "3/3 [==============================] - 0s 64ms/step - loss: 0.1936 - accuracy: 0.9875 - val_loss: 0.2700 - val_accuracy: 0.9500\n",
      "Epoch 26/100\n",
      "3/3 [==============================] - 0s 64ms/step - loss: 0.1804 - accuracy: 1.0000 - val_loss: 0.2574 - val_accuracy: 0.9500\n",
      "Epoch 27/100\n",
      "3/3 [==============================] - 0s 61ms/step - loss: 0.1634 - accuracy: 1.0000 - val_loss: 0.1904 - val_accuracy: 0.9500\n",
      "Epoch 28/100\n",
      "3/3 [==============================] - 0s 56ms/step - loss: 0.1431 - accuracy: 1.0000 - val_loss: 0.1996 - val_accuracy: 0.9500\n",
      "Epoch 29/100\n",
      "3/3 [==============================] - 0s 59ms/step - loss: 0.1468 - accuracy: 1.0000 - val_loss: 0.2655 - val_accuracy: 0.8500\n",
      "Epoch 30/100\n",
      "3/3 [==============================] - 0s 56ms/step - loss: 0.1849 - accuracy: 0.9625 - val_loss: 0.1563 - val_accuracy: 1.0000\n",
      "Epoch 31/100\n",
      "3/3 [==============================] - 0s 57ms/step - loss: 0.1156 - accuracy: 1.0000 - val_loss: 0.1506 - val_accuracy: 1.0000\n",
      "Epoch 32/100\n",
      "3/3 [==============================] - 0s 70ms/step - loss: 0.1132 - accuracy: 1.0000 - val_loss: 0.1478 - val_accuracy: 1.0000\n",
      "Epoch 33/100\n",
      "3/3 [==============================] - 0s 67ms/step - loss: 0.1025 - accuracy: 1.0000 - val_loss: 0.1413 - val_accuracy: 1.0000\n",
      "Epoch 34/100\n",
      "3/3 [==============================] - 0s 63ms/step - loss: 0.0983 - accuracy: 1.0000 - val_loss: 0.1497 - val_accuracy: 0.9500\n",
      "Epoch 35/100\n",
      "3/3 [==============================] - 0s 60ms/step - loss: 0.0956 - accuracy: 1.0000 - val_loss: 0.1706 - val_accuracy: 0.9500\n",
      "Epoch 36/100\n",
      "3/3 [==============================] - 0s 62ms/step - loss: 0.1196 - accuracy: 1.0000 - val_loss: 0.1349 - val_accuracy: 0.9500\n",
      "Epoch 37/100\n",
      "3/3 [==============================] - 0s 63ms/step - loss: 0.0892 - accuracy: 1.0000 - val_loss: 0.1476 - val_accuracy: 0.9500\n",
      "Epoch 38/100\n",
      "3/3 [==============================] - 0s 62ms/step - loss: 0.0973 - accuracy: 1.0000 - val_loss: 0.1277 - val_accuracy: 0.9500\n",
      "Epoch 39/100\n",
      "3/3 [==============================] - 0s 61ms/step - loss: 0.0805 - accuracy: 1.0000 - val_loss: 0.1260 - val_accuracy: 0.9500\n",
      "Epoch 40/100\n",
      "3/3 [==============================] - 0s 60ms/step - loss: 0.0781 - accuracy: 1.0000 - val_loss: 0.1879 - val_accuracy: 0.9500\n",
      "Epoch 41/100\n",
      "3/3 [==============================] - 0s 60ms/step - loss: 0.0919 - accuracy: 1.0000 - val_loss: 0.1262 - val_accuracy: 0.9500\n",
      "Epoch 42/100\n",
      "3/3 [==============================] - 0s 58ms/step - loss: 0.0740 - accuracy: 1.0000 - val_loss: 0.1088 - val_accuracy: 1.0000\n",
      "Epoch 43/100\n",
      "3/3 [==============================] - 0s 57ms/step - loss: 0.0702 - accuracy: 1.0000 - val_loss: 0.1063 - val_accuracy: 1.0000\n",
      "Epoch 44/100\n",
      "3/3 [==============================] - 0s 61ms/step - loss: 0.0700 - accuracy: 1.0000 - val_loss: 0.1163 - val_accuracy: 1.0000\n",
      "Epoch 45/100\n",
      "3/3 [==============================] - 0s 63ms/step - loss: 0.0924 - accuracy: 1.0000 - val_loss: 0.1150 - val_accuracy: 0.9500\n",
      "Epoch 46/100\n",
      "3/3 [==============================] - 0s 61ms/step - loss: 0.0678 - accuracy: 1.0000 - val_loss: 0.1000 - val_accuracy: 1.0000\n",
      "Epoch 47/100\n",
      "3/3 [==============================] - 0s 65ms/step - loss: 0.0604 - accuracy: 1.0000 - val_loss: 0.1001 - val_accuracy: 1.0000\n",
      "Epoch 48/100\n",
      "3/3 [==============================] - 0s 62ms/step - loss: 0.0774 - accuracy: 1.0000 - val_loss: 0.0941 - val_accuracy: 1.0000\n",
      "Epoch 49/100\n",
      "3/3 [==============================] - 0s 62ms/step - loss: 0.0561 - accuracy: 1.0000 - val_loss: 0.0970 - val_accuracy: 1.0000\n",
      "Epoch 50/100\n",
      "3/3 [==============================] - 0s 64ms/step - loss: 0.0536 - accuracy: 1.0000 - val_loss: 0.0931 - val_accuracy: 1.0000\n",
      "Epoch 51/100\n",
      "3/3 [==============================] - 0s 68ms/step - loss: 0.0537 - accuracy: 1.0000 - val_loss: 0.0916 - val_accuracy: 1.0000\n",
      "Epoch 52/100\n",
      "3/3 [==============================] - 0s 65ms/step - loss: 0.0551 - accuracy: 1.0000 - val_loss: 0.1080 - val_accuracy: 0.9500\n",
      "Epoch 53/100\n",
      "3/3 [==============================] - 0s 55ms/step - loss: 0.0513 - accuracy: 1.0000 - val_loss: 0.1136 - val_accuracy: 0.9500\n",
      "Epoch 54/100\n",
      "3/3 [==============================] - 0s 88ms/step - loss: 0.0490 - accuracy: 1.0000 - val_loss: 0.0896 - val_accuracy: 1.0000\n",
      "Epoch 55/100\n",
      "3/3 [==============================] - 0s 55ms/step - loss: 0.0463 - accuracy: 1.0000 - val_loss: 0.0827 - val_accuracy: 1.0000\n",
      "Epoch 56/100\n",
      "3/3 [==============================] - 0s 62ms/step - loss: 0.0458 - accuracy: 1.0000 - val_loss: 0.0804 - val_accuracy: 1.0000\n",
      "Epoch 57/100\n",
      "3/3 [==============================] - 0s 65ms/step - loss: 0.0454 - accuracy: 1.0000 - val_loss: 0.0790 - val_accuracy: 1.0000\n",
      "Epoch 58/100\n",
      "3/3 [==============================] - 0s 71ms/step - loss: 0.0437 - accuracy: 1.0000 - val_loss: 0.0838 - val_accuracy: 1.0000\n",
      "Epoch 59/100\n",
      "3/3 [==============================] - 0s 63ms/step - loss: 0.0416 - accuracy: 1.0000 - val_loss: 0.0885 - val_accuracy: 0.9500\n",
      "Epoch 60/100\n",
      "3/3 [==============================] - 0s 66ms/step - loss: 0.0438 - accuracy: 1.0000 - val_loss: 0.1126 - val_accuracy: 0.9500\n",
      "Epoch 61/100\n",
      "3/3 [==============================] - 0s 68ms/step - loss: 0.0441 - accuracy: 1.0000 - val_loss: 0.0858 - val_accuracy: 0.9500\n",
      "Epoch 62/100\n",
      "3/3 [==============================] - 0s 82ms/step - loss: 0.0423 - accuracy: 1.0000 - val_loss: 0.0936 - val_accuracy: 0.9500\n",
      "Epoch 63/100\n",
      "3/3 [==============================] - 0s 60ms/step - loss: 0.0389 - accuracy: 1.0000 - val_loss: 0.0833 - val_accuracy: 0.9500\n",
      "Epoch 64/100\n",
      "3/3 [==============================] - 0s 63ms/step - loss: 0.0368 - accuracy: 1.0000 - val_loss: 0.0707 - val_accuracy: 1.0000\n",
      "Epoch 65/100\n",
      "3/3 [==============================] - 0s 58ms/step - loss: 0.0364 - accuracy: 1.0000 - val_loss: 0.0768 - val_accuracy: 1.0000\n",
      "Epoch 66/100\n",
      "3/3 [==============================] - 0s 55ms/step - loss: 0.0374 - accuracy: 1.0000 - val_loss: 0.0765 - val_accuracy: 1.0000\n",
      "Epoch 67/100\n",
      "3/3 [==============================] - 0s 59ms/step - loss: 0.0343 - accuracy: 1.0000 - val_loss: 0.0814 - val_accuracy: 0.9500\n",
      "Epoch 68/100\n",
      "3/3 [==============================] - 0s 67ms/step - loss: 0.0333 - accuracy: 1.0000 - val_loss: 0.0673 - val_accuracy: 1.0000\n",
      "Epoch 69/100\n",
      "3/3 [==============================] - 0s 66ms/step - loss: 0.0326 - accuracy: 1.0000 - val_loss: 0.0811 - val_accuracy: 0.9500\n",
      "Epoch 70/100\n",
      "3/3 [==============================] - 0s 64ms/step - loss: 0.0323 - accuracy: 1.0000 - val_loss: 0.0692 - val_accuracy: 1.0000\n",
      "Epoch 71/100\n",
      "3/3 [==============================] - 0s 64ms/step - loss: 0.0318 - accuracy: 1.0000 - val_loss: 0.0979 - val_accuracy: 0.9500\n",
      "Epoch 72/100\n",
      "3/3 [==============================] - 0s 61ms/step - loss: 0.0333 - accuracy: 1.0000 - val_loss: 0.0659 - val_accuracy: 1.0000\n",
      "Epoch 73/100\n",
      "3/3 [==============================] - 0s 64ms/step - loss: 0.0298 - accuracy: 1.0000 - val_loss: 0.0688 - val_accuracy: 1.0000\n",
      "Epoch 74/100\n",
      "3/3 [==============================] - 0s 64ms/step - loss: 0.0294 - accuracy: 1.0000 - val_loss: 0.0654 - val_accuracy: 1.0000\n",
      "Epoch 75/100\n",
      "3/3 [==============================] - 0s 66ms/step - loss: 0.0299 - accuracy: 1.0000 - val_loss: 0.0644 - val_accuracy: 1.0000\n",
      "Epoch 76/100\n",
      "3/3 [==============================] - 0s 59ms/step - loss: 0.0302 - accuracy: 1.0000 - val_loss: 0.0606 - val_accuracy: 1.0000\n",
      "Epoch 77/100\n",
      "3/3 [==============================] - 0s 57ms/step - loss: 0.0288 - accuracy: 1.0000 - val_loss: 0.0592 - val_accuracy: 1.0000\n",
      "Epoch 78/100\n",
      "3/3 [==============================] - 0s 71ms/step - loss: 0.0282 - accuracy: 1.0000 - val_loss: 0.0708 - val_accuracy: 0.9500\n",
      "Epoch 79/100\n",
      "3/3 [==============================] - 0s 58ms/step - loss: 0.0282 - accuracy: 1.0000 - val_loss: 0.0580 - val_accuracy: 1.0000\n",
      "Epoch 80/100\n",
      "3/3 [==============================] - 0s 64ms/step - loss: 0.0285 - accuracy: 1.0000 - val_loss: 0.0697 - val_accuracy: 0.9500\n",
      "Epoch 81/100\n",
      "3/3 [==============================] - 0s 72ms/step - loss: 0.0262 - accuracy: 1.0000 - val_loss: 0.0587 - val_accuracy: 1.0000\n",
      "Epoch 82/100\n",
      "3/3 [==============================] - 0s 63ms/step - loss: 0.0247 - accuracy: 1.0000 - val_loss: 0.0735 - val_accuracy: 0.9500\n",
      "Epoch 83/100\n",
      "3/3 [==============================] - 0s 74ms/step - loss: 0.0253 - accuracy: 1.0000 - val_loss: 0.0588 - val_accuracy: 1.0000\n",
      "Epoch 84/100\n",
      "3/3 [==============================] - 0s 71ms/step - loss: 0.0243 - accuracy: 1.0000 - val_loss: 0.0720 - val_accuracy: 0.9500\n",
      "Epoch 85/100\n",
      "3/3 [==============================] - 0s 64ms/step - loss: 0.0250 - accuracy: 1.0000 - val_loss: 0.0811 - val_accuracy: 0.9500\n",
      "Epoch 86/100\n",
      "3/3 [==============================] - 0s 67ms/step - loss: 0.0248 - accuracy: 1.0000 - val_loss: 0.0599 - val_accuracy: 1.0000\n",
      "Epoch 87/100\n",
      "3/3 [==============================] - 0s 69ms/step - loss: 0.0227 - accuracy: 1.0000 - val_loss: 0.0555 - val_accuracy: 1.0000\n",
      "Epoch 88/100\n",
      "3/3 [==============================] - 0s 67ms/step - loss: 0.0228 - accuracy: 1.0000 - val_loss: 0.0557 - val_accuracy: 1.0000\n",
      "Epoch 89/100\n",
      "3/3 [==============================] - 0s 66ms/step - loss: 0.0221 - accuracy: 1.0000 - val_loss: 0.0615 - val_accuracy: 1.0000\n",
      "Epoch 90/100\n",
      "3/3 [==============================] - 0s 60ms/step - loss: 0.0229 - accuracy: 1.0000 - val_loss: 0.0581 - val_accuracy: 1.0000\n",
      "Epoch 91/100\n",
      "3/3 [==============================] - 0s 60ms/step - loss: 0.0212 - accuracy: 1.0000 - val_loss: 0.0534 - val_accuracy: 1.0000\n",
      "Epoch 92/100\n",
      "3/3 [==============================] - 0s 76ms/step - loss: 0.0215 - accuracy: 1.0000 - val_loss: 0.0571 - val_accuracy: 1.0000\n",
      "Epoch 93/100\n",
      "3/3 [==============================] - 0s 67ms/step - loss: 0.0204 - accuracy: 1.0000 - val_loss: 0.0570 - val_accuracy: 1.0000\n",
      "Epoch 94/100\n",
      "3/3 [==============================] - 0s 64ms/step - loss: 0.0200 - accuracy: 1.0000 - val_loss: 0.0549 - val_accuracy: 1.0000\n",
      "Epoch 95/100\n",
      "3/3 [==============================] - 0s 64ms/step - loss: 0.0199 - accuracy: 1.0000 - val_loss: 0.0509 - val_accuracy: 1.0000\n",
      "Epoch 96/100\n",
      "3/3 [==============================] - 0s 66ms/step - loss: 0.0195 - accuracy: 1.0000 - val_loss: 0.0599 - val_accuracy: 1.0000\n",
      "Epoch 97/100\n",
      "3/3 [==============================] - 0s 63ms/step - loss: 0.0196 - accuracy: 1.0000 - val_loss: 0.0563 - val_accuracy: 1.0000\n",
      "Epoch 98/100\n",
      "3/3 [==============================] - 0s 63ms/step - loss: 0.0191 - accuracy: 1.0000 - val_loss: 0.0661 - val_accuracy: 0.9500\n",
      "Epoch 99/100\n",
      "3/3 [==============================] - 0s 58ms/step - loss: 0.0199 - accuracy: 1.0000 - val_loss: 0.0504 - val_accuracy: 1.0000\n",
      "Epoch 100/100\n",
      "3/3 [==============================] - 0s 62ms/step - loss: 0.0186 - accuracy: 1.0000 - val_loss: 0.0517 - val_accuracy: 1.0000\n"
     ]
    }
   ],
   "source": [
    "H = model.fit(x_train, y_train, validation_data=(x_test, y_test), \n",
    "          epochs=max_epochs, batch_size=32)"
   ]
  },
  {
   "cell_type": "code",
   "execution_count": 37,
   "metadata": {},
   "outputs": [
    {
     "data": {
      "image/png": "[encoded data removed]",
      "text/plain": [
       "<Figure size 432x288 with 1 Axes>"
      ]
     },
     "metadata": {},
     "output_type": "display_data"
    }
   ],
   "source": [
    "N = np.arange(0, max_epochs)\n",
    "plt.style.use(\"ggplot\")\n",
    "plt.figure()\n",
    "plt.plot(N, H.history[\"loss\"], label=\"train_loss\")\n",
    "plt.plot(N, H.history[\"val_loss\"], label=\"val_loss\")\n",
    "#plt.plot(N, H.history[\"accuracy\"], label=\"train_acc\")\n",
    "#plt.plot(N, H.history[\"val_accuracy\"], label=\"val_acc\")\n",
    "plt.xlabel(\"Epoch #\")\n",
    "plt.legend()\n",
    "plt.show()"
   ]
  },
  {
   "cell_type": "markdown",
   "metadata": {},
   "source": [
    "<h3>7. Evaluate the Model</h3>"
   ]
  },
  {
   "cell_type": "code",
   "execution_count": 38,
   "metadata": {},
   "outputs": [
    {
     "name": "stdout",
     "output_type": "stream",
     "text": [
      "              precision    recall  f1-score   support\n",
      "\n",
      "      Pandan       1.00      1.00      1.00        12\n",
      "     Seledri       1.00      1.00      1.00         8\n",
      "\n",
      "    accuracy                           1.00        20\n",
      "   macro avg       1.00      1.00      1.00        20\n",
      "weighted avg       1.00      1.00      1.00        20\n",
      "\n"
     ]
    },
    {
     "name": "stderr",
     "output_type": "stream",
     "text": [
      "C:\\Users\\aaliv\\AppData\\Local\\Temp/ipykernel_17932/954476436.py:3: DeprecationWarning: `np.int` is a deprecated alias for the builtin `int`. To silence this warning, use `int` by itself. Doing this will not modify any behavior and is safe. When replacing `np.int`, you may wish to use e.g. `np.int64` or `np.int32` to specify the precision. If you wish to review your current use, check the release note link for additional information.\n",
      "Deprecated in NumPy 1.20; for more details and guidance: https://numpy.org/devdocs/release/1.20.0-notes.html#deprecations\n",
      "  target = (predictions > 0.5).astype(np.int)\n"
     ]
    }
   ],
   "source": [
    "# menghitung nilai akurasi model terhadap data test\n",
    "predictions = model.predict(x_test, batch_size=32)\n",
    "target = (predictions > 0.5).astype(np.int)\n",
    "print(classification_report(y_test, target, target_names=label_list))"
   ]
  },
  {
   "cell_type": "code",
   "execution_count": 45,
   "metadata": {},
   "outputs": [
    {
     "name": "stdout",
     "output_type": "stream",
     "text": [
      "[[0.99215555]]\n"
     ]
    }
   ],
   "source": [
    "# uji model menggunakan image lain\n",
    "queryPath = imagePaths+'003.jpg'\n",
    "query = cv2.imread(queryPath)\n",
    "output = query.copy()\n",
    "query = cv2.resize(query, (32, 32))\n",
    "q = []\n",
    "q.append(query)\n",
    "q = np.array(q, dtype='float') / 255.0\n",
    "\n",
    "q_pred = model.predict(q)\n",
    "print(q_pred)"
   ]
  },
  {
   "cell_type": "code",
   "execution_count": 47,
   "metadata": {},
   "outputs": [],
   "source": [
    "if q_pred<=0.5 :\n",
    "    target = \"Pandan\"\n",
    "else :\n",
    "    target = \"Seledri\"\n",
    "text = \"{}\".format(target)\n",
    "cv2.putText(output, text, (10, 30), cv2.FONT_HERSHEY_SIMPLEX, 0.7, (0, 0, 255), 2)\n",
    " \n",
    "# menampilkan output image\n",
    "cv2.imshow('Output', output)\n",
    "cv2.waitKey() # image tidak akan diclose,sebelum user menekan sembarang tombol\n",
    "cv2.destroyWindow('Output') # image akan diclose"
   ]
  },
  {
   "cell_type": "code",
   "execution_count": null,
   "metadata": {},
   "outputs": [],
   "source": []
  }
 ],
 "metadata": {
  "kernelspec": {
   "display_name": "Python 3",
   "language": "python",
   "name": "python3"
  },
  "language_info": {
   "codemirror_mode": {
    "name": "ipython",
    "version": 3
   },
   "file_extension": ".py",
   "mimetype": "text/x-python",
   "name": "python",
   "nbconvert_exporter": "python",
   "pygments_lexer": "ipython3",
   "version": "3.9.4"
  }
 },
 "nbformat": 4,
 "nbformat_minor": 4
}
