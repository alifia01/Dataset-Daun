{
 "cells": [
  {
   "cell_type": "code",
   "execution_count": 1,
   "id": "84f83d8b",
   "metadata": {},
   "outputs": [],
   "source": [
    "import cv2\n",
    "import numpy as np\n"
   ]
  },
  {
   "cell_type": "code",
   "execution_count": 3,
   "id": "860ffd00",
   "metadata": {},
   "outputs": [
    {
     "name": "stdout",
     "output_type": "stream",
     "text": [
      "[[[131 133 127]\n",
      "  [131 133 127]\n",
      "  [131 133 127]\n",
      "  ...\n",
      "  [152 165 157]\n",
      "  [152 165 157]\n",
      "  [152 165 157]]\n",
      "\n",
      " [[131 133 127]\n",
      "  [131 133 127]\n",
      "  [131 133 127]\n",
      "  ...\n",
      "  [152 165 157]\n",
      "  [152 165 157]\n",
      "  [152 165 157]]\n",
      "\n",
      " [[131 133 127]\n",
      "  [131 133 127]\n",
      "  [131 133 127]\n",
      "  ...\n",
      "  [152 165 157]\n",
      "  [152 165 157]\n",
      "  [152 165 157]]\n",
      "\n",
      " ...\n",
      "\n",
      " [[ 93  95  89]\n",
      "  [ 93  95  89]\n",
      "  [ 94  96  90]\n",
      "  ...\n",
      "  [126 134 127]\n",
      "  [126 134 127]\n",
      "  [126 134 127]]\n",
      "\n",
      " [[ 93  95  89]\n",
      "  [ 93  95  89]\n",
      "  [ 94  96  90]\n",
      "  ...\n",
      "  [126 134 127]\n",
      "  [126 134 127]\n",
      "  [126 134 127]]\n",
      "\n",
      " [[ 93  95  89]\n",
      "  [ 93  95  89]\n",
      "  [ 94  96  90]\n",
      "  ...\n",
      "  [126 134 127]\n",
      "  [126 134 127]\n",
      "  [126 134 127]]]\n"
     ]
    }
   ],
   "source": [
    "#membaca pixel image (blue, green, red)\n",
    "image = cv2.imread(\"Dataset/Seledri/001.jpg\")\n",
    "print(image)"
   ]
  },
  {
   "cell_type": "code",
   "execution_count": 4,
   "id": "35cf586f",
   "metadata": {},
   "outputs": [],
   "source": [
    "#adjust image contrast \n",
    "r = 400/image.shape[1]\n",
    "dim = (400,int(image.shape[0]*r))\n",
    "im_resized = cv2.resize(image, dim)\n",
    "\n",
    "im_adjusted = cv2.addWeighted(im_resized, 1.5, np.zeros(im_resized.shape, im_resized.dtype), 0, -100)\n",
    "im_edges = cv2.Canny(im_resized, 100, 200)\n",
    "\n",
    "cv2.imshow('original image', im_resized)\n",
    "cv2.imshow('adjusted image', im_adjusted)\n",
    "cv2.imshow('Detected Edges', im_edges)\n",
    "cv2.waitKey(0)\n",
    "cv2.destroyAllWindows()"
   ]
  },
  {
   "cell_type": "code",
   "execution_count": 13,
   "id": "f5c410dd",
   "metadata": {},
   "outputs": [],
   "source": [
    "#ubah se-folder\n",
    "import glob\n",
    "\n",
    "imdir = 'Dataset/Seledri/'\n",
    "ext = ['jpg']\n",
    "\n",
    "files = []\n",
    "[files.extend(glob.glob(imdir + '*.' + e)) for e in ext]\n",
    "\n",
    "images = [cv2.imread(file) for file in files]\n",
    "\n",
    "i = 1\n",
    "for img in images:\n",
    "    im_adjusted = cv2.addWeighted(img, 1.5, np.zeros(img.shape, img.dtype), 0, -100)\n",
    "    im_name = \"Dataset/Seledri/Seledri_Edit/\" +  str(i) + \".jpg\"\n",
    "    cv2.imwrite(im_name, im_adjusted)\n",
    "    i += 1"
   ]
  }
 ],
 "metadata": {
  "kernelspec": {
   "display_name": "Python 3 (ipykernel)",
   "language": "python",
   "name": "python3"
  },
  "language_info": {
   "codemirror_mode": {
    "name": "ipython",
    "version": 3
   },
   "file_extension": ".py",
   "mimetype": "text/x-python",
   "name": "python",
   "nbconvert_exporter": "python",
   "pygments_lexer": "ipython3",
   "version": "3.9.4"
  },
  "widgets": {
   "application/vnd.jupyter.widget-state+json": {
    "state": {},
    "version_major": 2,
    "version_minor": 0
   }
  }
 },
 "nbformat": 4,
 "nbformat_minor": 5
}
